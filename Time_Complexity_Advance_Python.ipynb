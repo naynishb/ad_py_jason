{
  "nbformat": 4,
  "nbformat_minor": 0,
  "metadata": {
    "colab": {
      "provenance": []
    },
    "kernelspec": {
      "name": "python3",
      "display_name": "Python 3"
    },
    "language_info": {
      "name": "python"
    }
  },
  "cells": [
    {
      "cell_type": "code",
      "execution_count": null,
      "metadata": {
        "id": "-KaYbtXF_xfp"
      },
      "outputs": [],
      "source": [
        "def checker(n):\n",
        "  x=1\n",
        "  y=2\n",
        "  z=3\n",
        "  print(x,y,z)\n",
        "  #this function performs a constant number pf operations"
      ]
    },
    {
      "cell_type": "code",
      "source": [
        "checker(5)"
      ],
      "metadata": {
        "colab": {
          "base_uri": "https://localhost:8080/"
        },
        "id": "O1XMmbK9_9tI",
        "outputId": "b34ce5a5-e38d-4ab8-e8a0-9872c27fa6f3"
      },
      "execution_count": null,
      "outputs": [
        {
          "output_type": "stream",
          "name": "stdout",
          "text": [
            "1 2 3\n"
          ]
        }
      ]
    },
    {
      "cell_type": "code",
      "source": [
        "checker(10000)"
      ],
      "metadata": {
        "colab": {
          "base_uri": "https://localhost:8080/"
        },
        "id": "xZTtrTsCALfy",
        "outputId": "e3cee29a-e015-49a4-cf54-c59a7bcc3f5b"
      },
      "execution_count": null,
      "outputs": [
        {
          "output_type": "stream",
          "name": "stdout",
          "text": [
            "1 2 3\n"
          ]
        }
      ]
    },
    {
      "cell_type": "code",
      "source": [
        "def checker(n):\n",
        "  for i in range(n):\n",
        "    print(i)\n",
        "\n",
        " #no. of operations changes with the input\n",
        " #the no. of operations that my function performs linearly depends on the input\n",
        " #cost function of this is linear"
      ],
      "metadata": {
        "id": "1N4xsv8eANKd"
      },
      "execution_count": null,
      "outputs": []
    },
    {
      "cell_type": "code",
      "source": [
        "checker(5)"
      ],
      "metadata": {
        "colab": {
          "base_uri": "https://localhost:8080/"
        },
        "id": "QY8N9lprAkjm",
        "outputId": "f51fa6c5-f6bd-4239-81f9-6f2221ca23ea"
      },
      "execution_count": null,
      "outputs": [
        {
          "output_type": "stream",
          "name": "stdout",
          "text": [
            "0\n",
            "1\n",
            "2\n",
            "3\n",
            "4\n"
          ]
        }
      ]
    },
    {
      "cell_type": "code",
      "source": [
        "checker(1000)"
      ],
      "metadata": {
        "id": "zLs3ffuWAoRl"
      },
      "execution_count": null,
      "outputs": []
    },
    {
      "cell_type": "code",
      "source": [
        "def checker(n):\n",
        "  for i in range(n):\n",
        "    for j in range (n):\n",
        "      print(i,j)\n",
        "\n",
        " #no. of operations changes with the input\n",
        " #cost is quadratic"
      ],
      "metadata": {
        "id": "-_vgldKIArCY"
      },
      "execution_count": null,
      "outputs": []
    },
    {
      "cell_type": "code",
      "source": [
        "def checker(n):\n",
        "\n",
        "  for i in range (n):\n",
        "    print(i)\n",
        "\n",
        "  for i in range(n):\n",
        "    for j in range (n):\n",
        "      print(i,j)\n",
        "\n",
        "  for i in range(n):\n",
        "    for j in range (n):\n",
        "      for k in range (n):\n",
        "        print(i,j)"
      ],
      "metadata": {
        "id": "-vt5I0UMCZxZ"
      },
      "execution_count": null,
      "outputs": []
    },
    {
      "cell_type": "code",
      "source": [
        "random = {}\n",
        "random[1.1] = \"JavaScript\"\n",
        "random[1.0] = \"Python\"\n",
        "random[1] = \"C++\"\n",
        "random[True] = \"JAVA\"\n",
        "random[1+0j] = \"TypeScript\"\n",
        "random[1+2j] = \"TypeScript2\"\n",
        "\n",
        "print(f\"{random[1.1]} and {random[1]}\")"
      ],
      "metadata": {
        "colab": {
          "base_uri": "https://localhost:8080/"
        },
        "id": "FP72I4TJGERO",
        "outputId": "aaffd9c0-b325-4231-eeca-9e4a2ad55cb5"
      },
      "execution_count": null,
      "outputs": [
        {
          "output_type": "stream",
          "name": "stdout",
          "text": [
            "JavaScript and TypeScript\n"
          ]
        }
      ]
    },
    {
      "cell_type": "code",
      "source": [
        "[ i+j+k for k in [\"I\"] for j in [\"am\"] for i in [\"weird\"] ]\n"
      ],
      "metadata": {
        "colab": {
          "base_uri": "https://localhost:8080/"
        },
        "id": "3uZ-V__QHI4i",
        "outputId": "a25114e7-599c-46e5-deb5-f3d289b73c51"
      },
      "execution_count": null,
      "outputs": [
        {
          "output_type": "execute_result",
          "data": {
            "text/plain": [
              "['weirdamI']"
            ]
          },
          "metadata": {},
          "execution_count": 10
        }
      ]
    },
    {
      "cell_type": "code",
      "source": [
        "#sorting algorithm\n",
        "\n",
        "\n",
        "x=[5,1,2,4,7,3]"
      ],
      "metadata": {
        "id": "bS5p41ssHtO9"
      },
      "execution_count": null,
      "outputs": []
    },
    {
      "cell_type": "code",
      "source": [
        "print(x.sort())"
      ],
      "metadata": {
        "colab": {
          "base_uri": "https://localhost:8080/"
        },
        "id": "fSAKON6qJ_Oi",
        "outputId": "b33530d6-791d-434d-e4fa-4a1bbd73112c"
      },
      "execution_count": null,
      "outputs": [
        {
          "output_type": "stream",
          "name": "stdout",
          "text": [
            "None\n"
          ]
        }
      ]
    },
    {
      "cell_type": "code",
      "source": [
        "x"
      ],
      "metadata": {
        "colab": {
          "base_uri": "https://localhost:8080/"
        },
        "id": "aKYA42CgKENW",
        "outputId": "288a47c4-8cd7-4c1b-dcb7-d4604a5cab72"
      },
      "execution_count": null,
      "outputs": [
        {
          "output_type": "execute_result",
          "data": {
            "text/plain": [
              "[1, 2, 3, 4, 5, 7]"
            ]
          },
          "metadata": {},
          "execution_count": 15
        }
      ]
    },
    {
      "cell_type": "code",
      "source": [
        "\n",
        "\n",
        "def sorter(x):\n",
        "  x2=x.copy()\n",
        "#bubble sort\n",
        "  for j in range (len(x)-1):\n",
        "    print(x)\n",
        "    for i in range (len(x)-1-j):\n",
        "      if x[i]>x[i+1]:\n",
        "        x[i], x[i+1]= x[i+1],x[i]\n",
        "\n",
        "      print(\"\\t\",x)\n",
        "      print(\"-\"*50)\n",
        "\n",
        "  return x,x2"
      ],
      "metadata": {
        "id": "DB2T2k4DKLkn"
      },
      "execution_count": null,
      "outputs": []
    },
    {
      "cell_type": "code",
      "source": [
        "a=[10,9,8,3,1,2,3]\n",
        "sorted_a,original_a=sorter(a)"
      ],
      "metadata": {
        "colab": {
          "base_uri": "https://localhost:8080/"
        },
        "id": "iVS1T5yPPRHI",
        "outputId": "d016b80b-977c-4003-9431-710d4c05c356"
      },
      "execution_count": null,
      "outputs": [
        {
          "output_type": "stream",
          "name": "stdout",
          "text": [
            "[10, 9, 8, 3, 1, 2, 3]\n",
            "\t [9, 10, 8, 3, 1, 2, 3]\n",
            "--------------------------------------------------\n",
            "\t [9, 8, 10, 3, 1, 2, 3]\n",
            "--------------------------------------------------\n",
            "\t [9, 8, 3, 10, 1, 2, 3]\n",
            "--------------------------------------------------\n",
            "\t [9, 8, 3, 1, 10, 2, 3]\n",
            "--------------------------------------------------\n",
            "\t [9, 8, 3, 1, 2, 10, 3]\n",
            "--------------------------------------------------\n",
            "\t [9, 8, 3, 1, 2, 3, 10]\n",
            "--------------------------------------------------\n",
            "[9, 8, 3, 1, 2, 3, 10]\n",
            "\t [8, 9, 3, 1, 2, 3, 10]\n",
            "--------------------------------------------------\n",
            "\t [8, 3, 9, 1, 2, 3, 10]\n",
            "--------------------------------------------------\n",
            "\t [8, 3, 1, 9, 2, 3, 10]\n",
            "--------------------------------------------------\n",
            "\t [8, 3, 1, 2, 9, 3, 10]\n",
            "--------------------------------------------------\n",
            "\t [8, 3, 1, 2, 3, 9, 10]\n",
            "--------------------------------------------------\n",
            "[8, 3, 1, 2, 3, 9, 10]\n",
            "\t [3, 8, 1, 2, 3, 9, 10]\n",
            "--------------------------------------------------\n",
            "\t [3, 1, 8, 2, 3, 9, 10]\n",
            "--------------------------------------------------\n",
            "\t [3, 1, 2, 8, 3, 9, 10]\n",
            "--------------------------------------------------\n",
            "\t [3, 1, 2, 3, 8, 9, 10]\n",
            "--------------------------------------------------\n",
            "[3, 1, 2, 3, 8, 9, 10]\n",
            "\t [1, 3, 2, 3, 8, 9, 10]\n",
            "--------------------------------------------------\n",
            "\t [1, 2, 3, 3, 8, 9, 10]\n",
            "--------------------------------------------------\n",
            "\t [1, 2, 3, 3, 8, 9, 10]\n",
            "--------------------------------------------------\n",
            "[1, 2, 3, 3, 8, 9, 10]\n",
            "\t [1, 2, 3, 3, 8, 9, 10]\n",
            "--------------------------------------------------\n",
            "\t [1, 2, 3, 3, 8, 9, 10]\n",
            "--------------------------------------------------\n",
            "[1, 2, 3, 3, 8, 9, 10]\n",
            "\t [1, 2, 3, 3, 8, 9, 10]\n",
            "--------------------------------------------------\n"
          ]
        }
      ]
    },
    {
      "cell_type": "code",
      "source": [
        "sorted_a"
      ],
      "metadata": {
        "colab": {
          "base_uri": "https://localhost:8080/"
        },
        "id": "SAZq20b9QU0m",
        "outputId": "c2e457d6-7dc7-4f19-c39e-d79779da5b51"
      },
      "execution_count": null,
      "outputs": [
        {
          "output_type": "execute_result",
          "data": {
            "text/plain": [
              "[1, 2, 3, 3, 8, 9, 10]"
            ]
          },
          "metadata": {},
          "execution_count": 32
        }
      ]
    },
    {
      "cell_type": "code",
      "source": [
        "original_a"
      ],
      "metadata": {
        "colab": {
          "base_uri": "https://localhost:8080/"
        },
        "id": "Z6dJeYTkQXyE",
        "outputId": "27040a7d-79bd-446f-a0d5-956006334b00"
      },
      "execution_count": null,
      "outputs": [
        {
          "output_type": "execute_result",
          "data": {
            "text/plain": [
              "[10, 9, 8, 3, 1, 2, 3]"
            ]
          },
          "metadata": {},
          "execution_count": 33
        }
      ]
    },
    {
      "cell_type": "code",
      "source": [
        "x=[1, 2, 3, 3, 8, 9, 10]\n",
        "sorter(x)"
      ],
      "metadata": {
        "colab": {
          "base_uri": "https://localhost:8080/"
        },
        "id": "63AIr7dgSC1c",
        "outputId": "9369aab1-a790-4613-ad05-e0173fc3019e"
      },
      "execution_count": null,
      "outputs": [
        {
          "output_type": "stream",
          "name": "stdout",
          "text": [
            "[1, 2, 3, 3, 8, 9, 10]\n",
            "\t [1, 2, 3, 3, 8, 9, 10]\n",
            "--------------------------------------------------\n",
            "\t [1, 2, 3, 3, 8, 9, 10]\n",
            "--------------------------------------------------\n",
            "\t [1, 2, 3, 3, 8, 9, 10]\n",
            "--------------------------------------------------\n",
            "\t [1, 2, 3, 3, 8, 9, 10]\n",
            "--------------------------------------------------\n",
            "\t [1, 2, 3, 3, 8, 9, 10]\n",
            "--------------------------------------------------\n",
            "\t [1, 2, 3, 3, 8, 9, 10]\n",
            "--------------------------------------------------\n",
            "[1, 2, 3, 3, 8, 9, 10]\n",
            "\t [1, 2, 3, 3, 8, 9, 10]\n",
            "--------------------------------------------------\n",
            "\t [1, 2, 3, 3, 8, 9, 10]\n",
            "--------------------------------------------------\n",
            "\t [1, 2, 3, 3, 8, 9, 10]\n",
            "--------------------------------------------------\n",
            "\t [1, 2, 3, 3, 8, 9, 10]\n",
            "--------------------------------------------------\n",
            "\t [1, 2, 3, 3, 8, 9, 10]\n",
            "--------------------------------------------------\n",
            "[1, 2, 3, 3, 8, 9, 10]\n",
            "\t [1, 2, 3, 3, 8, 9, 10]\n",
            "--------------------------------------------------\n",
            "\t [1, 2, 3, 3, 8, 9, 10]\n",
            "--------------------------------------------------\n",
            "\t [1, 2, 3, 3, 8, 9, 10]\n",
            "--------------------------------------------------\n",
            "\t [1, 2, 3, 3, 8, 9, 10]\n",
            "--------------------------------------------------\n",
            "[1, 2, 3, 3, 8, 9, 10]\n",
            "\t [1, 2, 3, 3, 8, 9, 10]\n",
            "--------------------------------------------------\n",
            "\t [1, 2, 3, 3, 8, 9, 10]\n",
            "--------------------------------------------------\n",
            "\t [1, 2, 3, 3, 8, 9, 10]\n",
            "--------------------------------------------------\n",
            "[1, 2, 3, 3, 8, 9, 10]\n",
            "\t [1, 2, 3, 3, 8, 9, 10]\n",
            "--------------------------------------------------\n",
            "\t [1, 2, 3, 3, 8, 9, 10]\n",
            "--------------------------------------------------\n",
            "[1, 2, 3, 3, 8, 9, 10]\n",
            "\t [1, 2, 3, 3, 8, 9, 10]\n",
            "--------------------------------------------------\n"
          ]
        },
        {
          "output_type": "execute_result",
          "data": {
            "text/plain": [
              "([1, 2, 3, 3, 8, 9, 10], [1, 2, 3, 3, 8, 9, 10])"
            ]
          },
          "metadata": {},
          "execution_count": 36
        }
      ]
    },
    {
      "cell_type": "code",
      "source": [
        "#how to optimize it further- additional learning"
      ],
      "metadata": {
        "id": "O1Ef5C9vQZU_"
      },
      "execution_count": null,
      "outputs": []
    }
  ]
}